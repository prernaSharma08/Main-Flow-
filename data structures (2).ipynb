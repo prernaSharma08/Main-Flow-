{
 "cells": [
  {
   "cell_type": "code",
   "execution_count": 3,
   "id": "91151051-fd9e-4223-b315-da3fc4d6d7da",
   "metadata": {},
   "outputs": [
    {
     "name": "stdout",
     "output_type": "stream",
     "text": [
      "4.0\n",
      "8.18\n",
      "prerna\n",
      "False\n",
      "4.0\n",
      "array('i', [3, 4, 7])\n",
      "array('f', [3.0999999046325684, 2.5, 7.800000190734863])\n",
      "[1, 'z', 2000]\n",
      "(1, 'priyu', 2000)\n",
      "(1, 2, 5, 7, 3)\n",
      "{1.1234, 5.45663, 9.3274, 7.32434}\n",
      "{'Key1-name': 10, 'Key2-name': 20}\n"
     ]
    }
   ],
   "source": [
    "# PRIMITIVE DATA TYPES\n",
    "# Literal Objects\n",
    "x = 4.0 # integer\n",
    "y = 8.18 # float\n",
    "z = \"prerna\" # string\n",
    "flag = False # Boolean\n",
    "# Non-Literal Objects\n",
    "x2 = str(x) # string from integer\n",
    "# =====================\n",
    "# DERIVED DATA TYPES\n",
    "# Arrays\n",
    "import array as arr\n",
    "# Array with signed integer 'i' type\n",
    "a1 = arr.array(\"i\", [3, 4, 7])\n",
    "# Array with double/float 'd'/'f' type\n",
    "a2 = arr.array(\"f\", [3.1, 2.5, 7.8])\n",
    "# List (mutable non-homogeneous)\n",
    "L1 = [1, \"z\", 2000]\n",
    "# Tuple (immutable non-homogeneous)\n",
    "T1 = (1, \"priyu\", 2000)\n",
    "T2 = (1, 2, 5, 7, 3)\n",
    "# Set (unique)\n",
    "S1 = {1.1234, 5.45663, 7.32434, 9.3274, 7.32434} \n",
    "# Dictionary (key value pairs)\n",
    "D1 = {\"Key1-name\": 10, \"Key2-name\": 20}\n",
    "print(x)\n",
    "print(y)\n",
    "print(z)\n",
    "print(flag)\n",
    "print(x2)\n",
    "print(a1)\n",
    "print(a2)\n",
    "print(L1)\n",
    "print(T1)\n",
    "print(T2)\n",
    "print(S1)\n",
    "print(D1)"
   ]
  },
  {
   "cell_type": "code",
   "execution_count": 5,
   "id": "a843d609-2a6e-4d05-b3b5-ea46be53d0bd",
   "metadata": {},
   "outputs": [
    {
     "name": "stdout",
     "output_type": "stream",
     "text": [
      "========================================\n",
      "a = 19, b = 2\n",
      "================================================================================================================================================================================================================================================================================================================================================================================================================\n",
      "Add : 19+2 = 21\n",
      "Substract : 19-2 = 17\n",
      "Multiply : 19*2 = 38\n",
      "Division : 19/2 = 9.5\n",
      "====================================================================================================\n",
      "Power : 19**2= 361\n",
      "Remainder : 19%2 = 1\n",
      "Integer quitient value (With Floor function) : 19//2 = 9\n",
      "========================================\n"
     ]
    }
   ],
   "source": [
    "'''\n",
    "Sample program to see \n",
    "Arithmetic Operators in Python\n",
    "'''\n",
    "a, b = 19, 2\n",
    "print(20*\"==\")\n",
    "print(f\"a = {a}, b = {b}\")\n",
    "print(200*\"==\")\n",
    "print(f\"Add : {a}+{b} = {a+b}\")\n",
    "print(f\"Substract : {a}-{b} = {a-b}\")\n",
    "print(f\"Multiply : {a}*{b} = {a*b}\")\n",
    "print(f\"Division : {a}/{b} = {a/b}\")\n",
    "print(50*\"==\")\n",
    "print(f\"Power : {a}**{b}= {a**b}\")\n",
    "print(f\"Remainder : {a}%{b} = {a%b}\")\n",
    "print(f\"Integer quitient value (With Floor function) : {a}//{b} = {a//b}\")\n",
    "print(20*\"==\")"
   ]
  },
  {
   "cell_type": "code",
   "execution_count": null,
   "id": "e4522e3d-5ec3-48f0-90e2-77b066c5be25",
   "metadata": {},
   "outputs": [],
   "source": []
  }
 ],
 "metadata": {
  "kernelspec": {
   "display_name": "Python 3 (ipykernel)",
   "language": "python",
   "name": "python3"
  },
  "language_info": {
   "codemirror_mode": {
    "name": "ipython",
    "version": 3
   },
   "file_extension": ".py",
   "mimetype": "text/x-python",
   "name": "python",
   "nbconvert_exporter": "python",
   "pygments_lexer": "ipython3",
   "version": "3.11.5"
  }
 },
 "nbformat": 4,
 "nbformat_minor": 5
}

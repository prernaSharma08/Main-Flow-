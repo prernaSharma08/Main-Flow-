{
 "cells": [
  {
   "cell_type": "code",
   "execution_count": 5,
   "metadata": {},
   "outputs": [
    {
     "name": "stdout",
     "output_type": "stream",
     "text": [
      "Converts the string into lower case:  the quick brown fox jumps over the hill\n",
      "Converts the string into upper case:  THE QUICK BROWN FOX JUMPS OVER THE HILL\n",
      "After removing the trailing whietsapces:  The QUIck brown FOX jumps over the HIlL\n",
      "Replaces L with A, the string would be: The QUIck brown FOX jumps over the HIlA\n",
      "Ater splitting the string into list:  ['The', 'QUIck', 'brown', 'FOX', 'jumps', 'over', 'the', 'HIlL']\n",
      "After joining the list:  The QUIck brown FOX jumps over the HIlL\n",
      "The first occurence of the letter UP is at the index:  16\n",
      "The length of the string is:  39\n"
     ]
    }
   ],
   "source": [
    "my_string = \"The QUIck brown FOX jumps over the HIlL\"\n",
    "\n",
    "\n",
    "# Common string methods\n",
    "lstr = my_string.lower()         \n",
    "print(\"Converts the string into lower case: \",lstr)\n",
    "ustr = my_string.upper()         \n",
    "print(\"Converts the string into upper case: \",ustr)\n",
    "strstr = my_string.strip()       \n",
    "print(\"After removing the trailing whietsapces: \",strstr)\n",
    "repstr = my_string.replace('L', 'A')  \n",
    "print(\"Replaces L with A, the string would be:\",repstr)\n",
    "my_string = \"The-QUIck-brown-FOX-jumps-over-the-HIlL\"\n",
    "lsstr = my_string.split('-')     \n",
    "print(\"Ater splitting the string into list: \",lsstr)\n",
    "strls = \" \".join(lsstr)  \n",
    "print(\"After joining the list: \",strls)\n",
    "ind = my_string.index('FOX')  \n",
    "print(\"The first occurence of the letter UP is at the index: \",ind)\n",
    "length = len(my_string)\n",
    "print(\"The length of the string is: \",length)"
   ]
  },
  {
   "cell_type": "code",
   "execution_count": 6,
   "metadata": {},
   "outputs": [
    {
     "name": "stdout",
     "output_type": "stream",
     "text": [
      "After appending an element, list is:  [10, 20, 30, 40, 50, 6]\n",
      "After inserting an element to the specific position, list is:  [10, 20, 2.5, 30, 40, 50, 6]\n",
      "After removing an element from the list, the list is:  [10, 20, 2.5, 30, 40, 6]\n",
      "After using pop function,list is:  [10, 20, 2.5, 30, 40]\n",
      "After sorting the elements,the list is:  [2.5, 10, 20, 30, 40]\n"
     ]
    }
   ],
   "source": [
    "# Creating a list\n",
    "my_list = [10, 20, 30, 40, 50]\n",
    "\n",
    "# List methods\n",
    "# Adds an element at the end of the list\n",
    "my_list.append(6)       \n",
    "print(\"After appending an element, list is: \",my_list)\n",
    "# Inserts an element at the specified position\n",
    "my_list.insert(2, 2.5)  \n",
    "print(\"After inserting an element to the specific position, list is: \",my_list)\n",
    "# Removes the first item with the specified value\n",
    "my_list.remove(50)     \n",
    "print(\"After removing an element from the list, the list is: \",my_list)\n",
    "# Removes the last item\n",
    "my_list.pop()          \n",
    "print(\"After using pop function,list is: \",my_list) \n",
    "# Sorts the list\n",
    "my_list.sort()  \n",
    "print(\"After sorting the elements,the list is: \",my_list)"
   ]
  },
  {
   "cell_type": "code",
   "execution_count": 7,
   "metadata": {},
   "outputs": [
    {
     "name": "stdout",
     "output_type": "stream",
     "text": [
      "The number of times  8  repeated is  1\n",
      "the index of 4 in the tuple is  6\n"
     ]
    }
   ],
   "source": [
    "# TUPLES\n",
    "\n",
    "# Creating a tuple\n",
    "my_tuple = (10,9,8,7,6,4,5)\n",
    "\n",
    "# Tuple methods\n",
    "# Returns the number of times a specified value occurs in a tuple\n",
    "num=8\n",
    "cnt = my_tuple.count(num)\n",
    "print(\"The number of times \",num,\" repeated is \",cnt)\n",
    "# Searches the tuple for a specified value and returns the position of where it was found\n",
    "index = my_tuple.index(4)      \n",
    "print(\"the index of 4 in the tuple is \",index+1)\n"
   ]
  },
  {
   "cell_type": "code",
   "execution_count": 8,
   "metadata": {},
   "outputs": [
    {
     "name": "stdout",
     "output_type": "stream",
     "text": [
      "Adding an element, the set is:  {40, 10, 50, 20, 60, 30}\n",
      "After remvoing an element, the set is:  {10, 50, 20, 60, 30}\n",
      "After removing random element, the set is:  {50, 20, 60, 30}\n",
      "After union of two sets, the final set is:  {50, 20, 60, 30}\n",
      "After intersection of two sets, the final set is:  {50, 20, 60, 30}\n",
      "After difference of two sets, the final set is:  {50, 20, 60, 30}\n"
     ]
    }
   ],
   "source": [
    "# SET\n",
    "\n",
    "\n",
    "# Creating a set\n",
    "my_set = {10, 20, 30, 40, 50}\n",
    "\n",
    "# Set methods\n",
    "# Adds an element to the set\n",
    "my_set.add(60)\n",
    "print(\"Adding an element, the set is: \",my_set)\n",
    "# Removes the specified element\n",
    "my_set.remove(40)        \n",
    "print(\"After remvoing an element, the set is: \",my_set)\n",
    "# Removes a random element from the set\n",
    "my_set.pop()            \n",
    "print(\"After removing random element, the set is: \",my_set)\n",
    "my_set.union({9, 10})  \n",
    "print(\"After union of two sets, the final set is: \",my_set)\n",
    "my_set.intersection({3, 6}) \n",
    "print(\"After intersection of two sets, the final set is: \",my_set)\n",
    "my_set.difference({1, 2})  \n",
    "print(\"After difference of two sets, the final set is: \",my_set) \n"
   ]
  },
  {
   "cell_type": "code",
   "execution_count": 10,
   "metadata": {},
   "outputs": [
    {
     "name": "stdout",
     "output_type": "stream",
     "text": [
      "The value of item fname tom\n",
      "The keys of the dictionary are:  dict_keys(['fname', 'age', 'lname'])\n",
      "The values of the dictionary are:  dict_values(['tom', 20, 'Cruise'])\n",
      "The keys and their corresponding values of the dictionary are:  dict_items([('fname', 'tom'), ('age', 20), ('lname', 'Cruise')])\n",
      "After updating the dictionary:  {'fname': 'tom', 'age': 20, 'lname': 'Cruise', 'country': 'america'}\n",
      "After popping an item from the dictionary:  america\n",
      "After clearing the dictionary:  {}\n"
     ]
    }
   ],
   "source": [
    "# DICTIONARY\n",
    "\n",
    "# Creating a dictionary\n",
    "my_dict = {'fname': 'tom', 'age': 20,'lname':'Cruise',}\n",
    "\n",
    "# Dictionary methods\n",
    "val = my_dict.get('fname')\n",
    "print(\"The value of item fname\",val)\n",
    "key = my_dict.keys()          \n",
    "print(\"The keys of the dictionary are: \",key)\n",
    "values = my_dict.values()        \n",
    "print(\"The values of the dictionary are: \",values)\n",
    "keyval = my_dict.items() \n",
    "print(\"The keys and their corresponding values of the dictionary are: \",keyval)        \n",
    "my_dict.update({'country': 'america'})\n",
    "print(\"After updating the dictionary: \",my_dict)\n",
    "popp = my_dict.pop('country')        \n",
    "print(\"After popping an item from the dictionary: \",popp)\n",
    "my_dict.clear()         \n",
    "print(\"After clearing the dictionary: \",my_dict)"
   ]
  },
  {
   "cell_type": "code",
   "execution_count": null,
   "metadata": {},
   "outputs": [],
   "source": []
  }
 ],
 "metadata": {
  "kernelspec": {
   "display_name": "Python 3",
   "language": "python",
   "name": "python3"
  },
  "language_info": {
   "codemirror_mode": {
    "name": "ipython",
    "version": 3
   },
   "file_extension": ".py",
   "mimetype": "text/x-python",
   "name": "python",
   "nbconvert_exporter": "python",
   "pygments_lexer": "ipython3",
   "version": "3.8.10"
  }
 },
 "nbformat": 4,
 "nbformat_minor": 2
}
